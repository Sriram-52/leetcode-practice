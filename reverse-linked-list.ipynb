{
 "cells": [
  {
   "cell_type": "code",
   "execution_count": null,
   "id": "0027332a",
   "metadata": {
    "vscode": {
     "languageId": "typescript"
    }
   },
   "outputs": [],
   "source": [
    "class ListNode {\n",
    "\tval: number;\n",
    "\tnext: ListNode | null;\n",
    "\tconstructor(val?: number, next?: ListNode | null) {\n",
    "\t\tthis.val = val === undefined ? 0 : val;\n",
    "\t\tthis.next = next === undefined ? null : next;\n",
    "\t}\n",
    "}\n"
   ]
  },
  {
   "cell_type": "code",
   "execution_count": null,
   "id": "5e4421e2",
   "metadata": {
    "vscode": {
     "languageId": "typescript"
    }
   },
   "outputs": [],
   "source": [
    "function reverseList(head: ListNode | null): ListNode | null {\n",
    "\tlet prev: ListNode | null = null,\n",
    "\t\tcurr = head;\n",
    "\twhile (curr) {\n",
    "\t\tlet nxt = curr.next;\n",
    "\t\tcurr.next = prev;\n",
    "\t\tprev = curr;\n",
    "\t\tcurr = nxt;\n",
    "\t}\n",
    "\treturn prev;\n",
    "}"
   ]
  },
  {
   "cell_type": "code",
   "execution_count": null,
   "id": "8f7dbf82",
   "metadata": {
    "vscode": {
     "languageId": "typescript"
    }
   },
   "outputs": [],
   "source": [
    "function reverseList(head: ListNode | null): ListNode | null {\n",
    "  if (!head) {\n",
    "    return null\n",
    "  }\n",
    "  let newHead = head\n",
    "  if (head.next) {\n",
    "\t\tnewHead = reverseList(head.next)\n",
    "    head.next.next = head\n",
    "  }\n",
    "  head.next = null\n",
    "\n",
    "  return newHead\n",
    "}\n"
   ]
  }
 ],
 "metadata": {
  "language_info": {
   "name": "python"
  }
 },
 "nbformat": 4,
 "nbformat_minor": 5
}
