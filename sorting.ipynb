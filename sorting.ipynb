{
 "cells": [
  {
   "cell_type": "markdown",
   "id": "0c362dd3",
   "metadata": {},
   "source": [
    "Insertion Sort"
   ]
  },
  {
   "cell_type": "code",
   "execution_count": 40,
   "id": "ebc97c9e",
   "metadata": {},
   "outputs": [
    {
     "name": "stdout",
     "output_type": "stream",
     "text": [
      "[ 1, 2, 3, 4, 6 ]\n"
     ]
    }
   ],
   "source": [
    "function insertionSort(arr: number[]) {\n",
    "\tfor (let i = 1; i < arr.length; i++) {\n",
    "\t\tlet j = i - 1;\n",
    "\t\twhile (j >= 0 && arr[j + 1] < arr[j]) {\n",
    "\t\t\tconst temp = arr[j + 1];\n",
    "\t\t\tarr[j + 1] = arr[j];\n",
    "\t\t\tarr[j] = temp;\n",
    "\t\t\tj--;\n",
    "\t\t}\n",
    "\t}\n",
    "\treturn arr;\n",
    "}\n",
    "\n",
    "const sortedArray = insertionSort([2, 3, 4, 1, 6])\n",
    "console.log(sortedArray)"
   ]
  },
  {
   "cell_type": "markdown",
   "id": "0606e83e",
   "metadata": {},
   "source": [
    "Merge Sort"
   ]
  },
  {
   "cell_type": "code",
   "execution_count": 41,
   "id": "63ddac34",
   "metadata": {},
   "outputs": [
    {
     "data": {
      "text/plain": [
       "[ \u001b[33m1\u001b[39m, \u001b[33m2\u001b[39m, \u001b[33m3\u001b[39m, \u001b[33m4\u001b[39m, \u001b[33m6\u001b[39m ]"
      ]
     },
     "execution_count": 41,
     "metadata": {},
     "output_type": "execute_result"
    }
   ],
   "source": [
    "function merge(arr: number[], l: number, m: number, r: number) {\n",
    "  const l1 = m - l + 1\n",
    "  const l2 = r - m\n",
    "  \n",
    "  const leftArray: number[] = new Array(l1).fill(-1)\n",
    "  const rightArray: number[] = new Array(l2).fill(-1)\n",
    "\n",
    "  for (let i = 0; i < l1; i++) {\n",
    "    leftArray[i] = arr[l + i]\n",
    "  }\n",
    "\n",
    "  for (let i = 0; i < l2; i++) {\n",
    "    rightArray[i] = arr[m + i + 1]\n",
    "  }\n",
    "\n",
    "  let i = 0, j = 0, k = l\n",
    "\n",
    "  while (i < l1 && j < l2) {\n",
    "    if (leftArray[i] <= rightArray[j]) {\n",
    "      arr[k] = leftArray[i]\n",
    "      i++\n",
    "    } else {\n",
    "      arr[k] = rightArray[j]\n",
    "      j++\n",
    "    }\n",
    "    k++\n",
    "  }\n",
    "\n",
    "  while (i < l1) {\n",
    "    arr[k] = leftArray[i]\n",
    "    i++\n",
    "  }\n",
    "\n",
    "  while (j < l2) {\n",
    "    arr[k] = rightArray[j]\n",
    "    j++\n",
    "  }\n",
    "\n",
    "  return arr\n",
    "}\n",
    "\n",
    "function mergeSort(arr: number[], l: number, r: number) {\n",
    "  if (l >= r) {\n",
    "    return arr\n",
    "  }\n",
    "\n",
    "  const m = Math.floor((l + r) / 2)\n",
    "  \n",
    "  mergeSort(arr, l, m)\n",
    "  mergeSort(arr, m + 1, r)\n",
    "\n",
    "  merge(arr, l, m, r)\n",
    "\n",
    "  return arr\n",
    "}\n",
    "\n",
    "mergeSort([3, 2, 4, 1, 6], 0, 4)"
   ]
  },
  {
   "cell_type": "markdown",
   "id": "958f13da",
   "metadata": {},
   "source": [
    "Quick Sort"
   ]
  },
  {
   "cell_type": "code",
   "execution_count": 42,
   "id": "e427651e",
   "metadata": {},
   "outputs": [
    {
     "data": {
      "text/plain": [
       "[ \u001b[33m1\u001b[39m, \u001b[33m2\u001b[39m, \u001b[33m3\u001b[39m, \u001b[33m4\u001b[39m, \u001b[33m6\u001b[39m ]"
      ]
     },
     "execution_count": 42,
     "metadata": {},
     "output_type": "execute_result"
    }
   ],
   "source": [
    "function quickSort(arr: number[], start: number, end: number) {\n",
    "  if (start >= end) {\n",
    "    return arr\n",
    "  }\n",
    "\n",
    "  const pivot = arr[end]\n",
    "  let left = start\n",
    "\n",
    "  for (let i = start; i < end; i++) {\n",
    "    if (arr[i] < pivot) {\n",
    "      const temp = arr[i]\n",
    "      arr[i] = arr[left]\n",
    "      arr[left] = temp\n",
    "      left++\n",
    "    }\n",
    "  }\n",
    "\n",
    "  arr[end] = arr[left]\n",
    "  arr[left] = pivot\n",
    "\n",
    "  quickSort(arr, start, left - 1)\n",
    "  quickSort(arr, left + 1, end)\n",
    "\n",
    "  return arr\n",
    "}\n",
    "\n",
    "quickSort([6, 2, 4, 1, 3], 0, 4)"
   ]
  },
  {
   "cell_type": "markdown",
   "id": "7a1a7647",
   "metadata": {},
   "source": [
    "Bucket Sort"
   ]
  },
  {
   "cell_type": "code",
   "execution_count": 43,
   "id": "35f9eac5",
   "metadata": {},
   "outputs": [
    {
     "data": {
      "text/plain": [
       "[ \u001b[33m0\u001b[39m, \u001b[33m0\u001b[39m, \u001b[33m1\u001b[39m, \u001b[33m2\u001b[39m, \u001b[33m2\u001b[39m, \u001b[33m2\u001b[39m ]"
      ]
     },
     "execution_count": 43,
     "metadata": {},
     "output_type": "execute_result"
    }
   ],
   "source": [
    "function bucketSort(arr: number[], range: number) {\n",
    "  const counts: number[] = new Array(range + 1).fill(0)\n",
    "\n",
    "  for (let i = 0; i < arr.length; i++) {\n",
    "    counts[arr[i]]++\n",
    "  }\n",
    "\n",
    "  let i = 0\n",
    "  for (let n = 0; n < range + 1; n++) {\n",
    "    for (let j = 0; j < counts[n]; j++) {\n",
    "      arr[i] = n\n",
    "      i++\n",
    "    }\n",
    "  }\n",
    "\n",
    "  return arr\n",
    "}\n",
    "\n",
    "bucketSort([2, 1, 2, 0, 0, 2], 2);"
   ]
  },
  {
   "cell_type": "markdown",
   "id": "586edde5",
   "metadata": {},
   "source": [
    "Bubble Sort"
   ]
  },
  {
   "cell_type": "code",
   "execution_count": 44,
   "id": "be40ffb7",
   "metadata": {},
   "outputs": [
    {
     "data": {
      "text/plain": [
       "[ \u001b[33m1\u001b[39m, \u001b[33m2\u001b[39m, \u001b[33m3\u001b[39m, \u001b[33m4\u001b[39m, \u001b[33m6\u001b[39m ]"
      ]
     },
     "execution_count": 44,
     "metadata": {},
     "output_type": "execute_result"
    }
   ],
   "source": [
    "function bubbleSort(arr: number[]) {\n",
    "  for (let i = 0; i < arr.length; i++) {\n",
    "    for (let j = i + 1; j < arr.length; j++) {\n",
    "      if (arr[i] > arr[j]) {\n",
    "        const temp = arr[i]\n",
    "        arr[i] = arr[j]\n",
    "        arr[j] = temp\n",
    "      }\n",
    "    }\n",
    "  }\n",
    "  return arr\n",
    "}\n",
    "\n",
    "bubbleSort([6, 2, 4, 1, 3]);"
   ]
  }
 ],
 "metadata": {
  "kernelspec": {
   "display_name": "Deno",
   "language": "typescript",
   "name": "deno"
  },
  "language_info": {
   "codemirror_mode": "typescript",
   "file_extension": ".ts",
   "mimetype": "text/x.typescript",
   "name": "typescript",
   "nbconvert_exporter": "script",
   "pygments_lexer": "typescript",
   "version": "5.8.3"
  }
 },
 "nbformat": 4,
 "nbformat_minor": 5
}
