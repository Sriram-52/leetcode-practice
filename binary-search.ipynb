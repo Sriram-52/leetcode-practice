{
 "cells": [
  {
   "cell_type": "markdown",
   "id": "d04ccc8a",
   "metadata": {},
   "source": [
    "Recursive"
   ]
  },
  {
   "cell_type": "code",
   "execution_count": 36,
   "id": "d3c5aaf3",
   "metadata": {},
   "outputs": [
    {
     "name": "stdout",
     "output_type": "stream",
     "text": [
      "0\n",
      "4\n",
      "-1\n"
     ]
    }
   ],
   "source": [
    "function binarySearch(arr: number[], low: number, high: number, key: number) {\n",
    "\tif (low > high) {\n",
    "\t\treturn -1;\n",
    "\t}\n",
    "\n",
    "\tconst mid = low + Math.floor((high - low) / 2);\n",
    "\n",
    "\tif (arr[mid] === key) {\n",
    "\t\treturn mid;\n",
    "\t}\n",
    "\n",
    "\tif (key < arr[mid]) {\n",
    "\t\treturn binarySearch(arr, low, mid - 1, key);\n",
    "\t}\n",
    "\treturn binarySearch(arr, mid + 1, high, key);\n",
    "}\n",
    "\n",
    "console.log(binarySearch([2, 3, 4, 6, 9], 0, 4, 2));\n",
    "console.log(binarySearch([2, 3, 4, 6, 9], 0, 4, 9));\n",
    "console.log(binarySearch([2, 3, 4, 6, 9], 0, 4, 10));\n"
   ]
  },
  {
   "cell_type": "markdown",
   "id": "87eb8092",
   "metadata": {},
   "source": [
    "Iterative"
   ]
  },
  {
   "cell_type": "code",
   "execution_count": 37,
   "id": "960eb771",
   "metadata": {},
   "outputs": [
    {
     "name": "stdout",
     "output_type": "stream",
     "text": [
      "0\n",
      "4\n",
      "-1\n"
     ]
    }
   ],
   "source": [
    "function binarySearch(arr: number[], low: number, high: number, key: number) {\n",
    "  let l = low, r = high\n",
    "\n",
    "  while (l <= r) {\n",
    "    const mid = l + Math.floor((r - l) / 2);\n",
    "    if (arr[mid] === key) {\n",
    "      return mid\n",
    "    } else if (arr[mid] < key) {\n",
    "      l = mid + 1\n",
    "    } else {\n",
    "      r = mid - 1\n",
    "    }\n",
    "  } \n",
    "\n",
    "  return -1\n",
    "}\n",
    "\n",
    "console.log(binarySearch([2, 3, 4, 6, 9], 0, 4, 2));\n",
    "console.log(binarySearch([2, 3, 4, 6, 9], 0, 4, 9));\n",
    "console.log(binarySearch([2, 3, 4, 6, 9], 0, 4, 10));\n"
   ]
  },
  {
   "cell_type": "markdown",
   "id": "608343e5",
   "metadata": {},
   "source": [
    "Search Matrix"
   ]
  },
  {
   "cell_type": "code",
   "execution_count": 38,
   "id": "4ad23d9f",
   "metadata": {},
   "outputs": [
    {
     "name": "stdout",
     "output_type": "stream",
     "text": [
      "false\n"
     ]
    }
   ],
   "source": [
    "function searchMatrix(matrix: number[][], target: number): boolean {\n",
    "\tlet low = 0,\n",
    "\t\thigh = matrix.length - 1;\n",
    "\n",
    "\twhile (low <= high) {\n",
    "\t\tconst mid = low + Math.floor((high - low) / 2);\n",
    "\t\tif (matrix[mid][0] === target) {\n",
    "\t\t\treturn true;\n",
    "\t\t} else if (matrix[mid][0] < target) {\n",
    "\t\t\tlow = mid + 1;\n",
    "\t\t} else {\n",
    "\t\t\thigh = mid - 1;\n",
    "\t\t}\n",
    "\t\tlet innerLow = 0,\n",
    "\t\t\tinnerHigh = matrix[mid].length - 1;\n",
    "\t\twhile (innerLow <= innerHigh) {\n",
    "\t\t\tconst innerMid = innerLow + Math.floor((innerHigh - innerLow) / 2);\n",
    "\t\t\tif (matrix[mid][innerMid] === target) {\n",
    "\t\t\t\treturn true;\n",
    "\t\t\t} else if (matrix[mid][innerMid] < target) {\n",
    "\t\t\t\tinnerLow = innerMid + 1;\n",
    "\t\t\t} else {\n",
    "\t\t\t\tinnerHigh = innerMid - 1;\n",
    "\t\t\t}\n",
    "\t\t}\n",
    "\t}\n",
    "\treturn false;\n",
    "}\n",
    "\n",
    "const matrix1 = [\n",
    "\t[1, 3, 5, 7],\n",
    "\t[10, 11, 16, 20],\n",
    "\t[23, 30, 34, 60],\n",
    "];\n",
    "const target1 = 21;\n",
    "console.log(searchMatrix(matrix1, target1));\n"
   ]
  },
  {
   "cell_type": "markdown",
   "id": "6468ff6e",
   "metadata": {},
   "source": [
    "Guess Number Higher or Lower\n",
    "\n",
    "We are playing the Guess Game. The game is as follows:\n",
    "\n",
    "I pick a number from 1 to n. You have to guess which number I picked.\n",
    "\n",
    "Every time you guess wrong, I will tell you whether the number I picked is higher or lower than your guess.\n",
    "\n",
    "You call a pre-defined API int guess(int num), which returns three possible results:\n",
    "\n",
    "-1: Your guess is higher than the number I picked (i.e. num > pick).\n",
    "1: Your guess is lower than the number I picked (i.e. num < pick).\n",
    "0: your guess is equal to the number I picked (i.e. num == pick).\n",
    "Return the number that I picked.\n",
    "\n",
    " \n",
    "\n",
    "Example 1:\n",
    "\n",
    "Input: n = 10, pick = 6\n",
    "Output: 6\n",
    "Example 2:\n",
    "\n",
    "Input: n = 1, pick = 1\n",
    "Output: 1\n",
    "Example 3:\n",
    "\n",
    "Input: n = 2, pick = 1\n",
    "Output: 1\n",
    " \n",
    "\n",
    "Constraints:\n",
    "\n",
    "1 <= n <= 231 - 1\n",
    "1 <= pick <= n"
   ]
  },
  {
   "cell_type": "code",
   "execution_count": 39,
   "id": "7ea6f0ca",
   "metadata": {},
   "outputs": [
    {
     "name": "stdout",
     "output_type": "stream",
     "text": [
      "{ target: 1, high: 10, low: 0, mid: 5 }\n",
      "{ target: -1, high: 10, low: 6, mid: 8 }\n",
      "{ target: 0, high: 7, low: 6, mid: 6 }\n"
     ]
    },
    {
     "data": {
      "text/plain": [
       "\u001b[33m6\u001b[39m"
      ]
     },
     "execution_count": 39,
     "metadata": {},
     "output_type": "execute_result"
    }
   ],
   "source": [
    "function guess(n: number) {\n",
    "  if(n < 6) {\n",
    "    return 1\n",
    "  } else if (n > 6) {\n",
    "    return -1\n",
    "  }\n",
    "  return 0\n",
    "}\n",
    "\n",
    "function guessNumber(n: number): number {\n",
    "\tlet low = 0,\n",
    "\t\thigh = n;\n",
    "\n",
    "\twhile (low <= high) {\n",
    "\t\tconst mid = low + Math.floor((high - low) / 2);\n",
    "\t\tconst target = guess(mid);\n",
    "    console.log({ target, high, low, mid })\n",
    "\t\tif (target === 0) return mid;\n",
    "\t\tif (target === -1) {\n",
    "      high = mid - 1;\n",
    "\t\t} else {\n",
    "\t\t\tlow = mid + 1;\n",
    "\t\t}\n",
    "\t}\n",
    "\n",
    "\treturn -1;\n",
    "}\n",
    "\n",
    "guessNumber(10)"
   ]
  },
  {
   "cell_type": "markdown",
   "id": "58c7becd",
   "metadata": {},
   "source": [
    "You are a product manager and currently leading a team to develop a new product. Unfortunately, the latest version of your product fails the quality check. Since each version is developed based on the previous version, all the versions after a bad version are also bad.\n",
    "\n",
    "Suppose you have n versions [1, 2, ..., n] and you want to find out the first bad one, which causes all the following ones to be bad.\n",
    "\n",
    "You are given an API bool isBadVersion(version) which returns whether version is bad. Implement a function to find the first bad version. You should minimize the number of calls to the API."
   ]
  },
  {
   "cell_type": "code",
   "execution_count": 40,
   "id": "93787448",
   "metadata": {},
   "outputs": [],
   "source": [
    "var solution = function (isBadVersion: any) {\n",
    "\treturn function (n: number): number {\n",
    "\t\tlet low = 0;\n",
    "\t\tlet high = n;\n",
    "\t\tlet result = -1;\n",
    "\n",
    "\t\twhile (low <= high) {\n",
    "\t\t\tconst mid = low + Math.floor((high - low) / 2);\n",
    "\t\t\tconst isBad = isBadVersion(mid);\n",
    "\t\t\tif (isBad) {\n",
    "\t\t\t\tresult = m;\n",
    "\t\t\t\thigh = mid - 1;\n",
    "\t\t\t} else {\n",
    "\t\t\t\tlow = mid + 1;\n",
    "\t\t\t}\n",
    "\t\t}\n",
    "\n",
    "\t\treturn result;\n",
    "\t};\n",
    "};\n"
   ]
  },
  {
   "cell_type": "markdown",
   "id": "2b1e1535",
   "metadata": {},
   "source": [
    "Koko loves to eat bananas. There are n piles of bananas, the ith pile has piles[i] bananas. The guards have gone and will come back in h hours.\n",
    "\n",
    "Koko can decide her bananas-per-hour eating speed of k. Each hour, she chooses some pile of bananas and eats k bananas from that pile. If the pile has less than k bananas, she eats all of them instead and will not eat any more bananas during this hour.\n",
    "\n",
    "Koko likes to eat slowly but still wants to finish eating all the bananas before the guards return.\n",
    "\n",
    "Return the minimum integer k such that she can eat all the bananas within h hours."
   ]
  },
  {
   "cell_type": "code",
   "execution_count": null,
   "id": "8831bdf5",
   "metadata": {},
   "outputs": [
    {
     "data": {
      "text/plain": [
       "\u001b[33m30\u001b[39m"
      ]
     },
     "execution_count": 62,
     "metadata": {},
     "output_type": "execute_result"
    }
   ],
   "source": [
    "function minEatingSpeed(piles: number[], h: number): number {\n",
    "\tlet low = 1;\n",
    "\tlet high = Math.max(...piles);\n",
    "\tlet result = high;\n",
    "\n",
    "\twhile (low <= high) {\n",
    "\t\tconst mid = low + Math.floor((high - low) / 2);\n",
    "\t\tconst hoursToEat = piles\n",
    "\t\t\t.map((pile) => Math.ceil(pile / mid))\n",
    "\t\t\t.reduce((a, b) => a + b, 0);\n",
    "\t\tconst canEat = hoursToEat <= h;\n",
    "\t\tif (canEat) {\n",
    "\t\t\tresult = mid;\n",
    "\t\t\thigh = mid - 1;\n",
    "\t\t} else {\n",
    "\t\t\tlow = mid + 1;\n",
    "\t\t}\n",
    "\t}\n",
    "\n",
    "\treturn result;\n",
    "}\n",
    "\n",
    "minEatingSpeed([30, 11, 23, 4, 20], 5);\n",
    "// canComplete([30, 11, 23, 4, 20], 21, 5);\n"
   ]
  }
 ],
 "metadata": {
  "kernelspec": {
   "display_name": "Deno",
   "language": "typescript",
   "name": "deno"
  },
  "language_info": {
   "codemirror_mode": "typescript",
   "file_extension": ".ts",
   "mimetype": "text/x.typescript",
   "name": "typescript",
   "nbconvert_exporter": "script",
   "pygments_lexer": "typescript",
   "version": "5.8.3"
  }
 },
 "nbformat": 4,
 "nbformat_minor": 5
}
