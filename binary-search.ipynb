{
 "cells": [
  {
   "cell_type": "markdown",
   "id": "d04ccc8a",
   "metadata": {},
   "source": [
    "Recursive"
   ]
  },
  {
   "cell_type": "code",
   "execution_count": 14,
   "id": "d3c5aaf3",
   "metadata": {},
   "outputs": [
    {
     "name": "stdout",
     "output_type": "stream",
     "text": [
      "0\n",
      "4\n",
      "-1\n"
     ]
    }
   ],
   "source": [
    "function binarySearch(arr: number[], low: number, high: number, key: number) {\n",
    "\tif (low > high) {\n",
    "\t\treturn -1;\n",
    "\t}\n",
    "\n",
    "\tconst mid = low + Math.floor((high - low) / 2);\n",
    "\n",
    "\tif (arr[mid] === key) {\n",
    "\t\treturn mid;\n",
    "\t}\n",
    "\n",
    "\tif (key < arr[mid]) {\n",
    "\t\treturn binarySearch(arr, low, mid - 1, key);\n",
    "\t}\n",
    "\treturn binarySearch(arr, mid + 1, high, key);\n",
    "}\n",
    "\n",
    "console.log(binarySearch([2, 3, 4, 6, 9], 0, 4, 2));\n",
    "console.log(binarySearch([2, 3, 4, 6, 9], 0, 4, 9));\n",
    "console.log(binarySearch([2, 3, 4, 6, 9], 0, 4, 10));\n"
   ]
  },
  {
   "cell_type": "markdown",
   "id": "87eb8092",
   "metadata": {},
   "source": [
    "Iterative"
   ]
  },
  {
   "cell_type": "code",
   "execution_count": 15,
   "id": "960eb771",
   "metadata": {},
   "outputs": [
    {
     "name": "stdout",
     "output_type": "stream",
     "text": [
      "0\n",
      "4\n",
      "-1\n"
     ]
    }
   ],
   "source": [
    "function binarySearch(arr: number[], low: number, high: number, key: number) {\n",
    "  let l = low, r = high\n",
    "\n",
    "  while (l <= r) {\n",
    "    const mid = l + Math.floor((r - l) / 2);\n",
    "    if (arr[mid] === key) {\n",
    "      return mid\n",
    "    } else if (arr[mid] < key) {\n",
    "      l = mid + 1\n",
    "    } else {\n",
    "      r = mid - 1\n",
    "    }\n",
    "  } \n",
    "\n",
    "  return -1\n",
    "}\n",
    "\n",
    "console.log(binarySearch([2, 3, 4, 6, 9], 0, 4, 2));\n",
    "console.log(binarySearch([2, 3, 4, 6, 9], 0, 4, 9));\n",
    "console.log(binarySearch([2, 3, 4, 6, 9], 0, 4, 10));\n"
   ]
  }
 ],
 "metadata": {
  "kernelspec": {
   "display_name": "Deno",
   "language": "typescript",
   "name": "deno"
  },
  "language_info": {
   "codemirror_mode": "typescript",
   "file_extension": ".ts",
   "mimetype": "text/x.typescript",
   "name": "typescript",
   "nbconvert_exporter": "script",
   "pygments_lexer": "typescript",
   "version": "5.8.3"
  }
 },
 "nbformat": 4,
 "nbformat_minor": 5
}
