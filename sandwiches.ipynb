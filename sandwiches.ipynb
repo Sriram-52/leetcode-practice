{
 "cells": [
  {
   "cell_type": "code",
   "execution_count": 52,
   "id": "2940609e",
   "metadata": {},
   "outputs": [],
   "source": [
    "function countStudents(students: number[], sandwiches: number[]): number {\n",
    "\tconst map: Record<number, number> = {}\n",
    "  students.forEach((val) => {\n",
    "    if (val in map) {\n",
    "      map[val]++\n",
    "    } else {\n",
    "      map[val] = 1\n",
    "    }\n",
    "  })\n",
    "  let result = sandwiches.length\n",
    "  for (const sandwich of sandwiches) {\n",
    "    if (!map[sandwich]) {\n",
    "      break\n",
    "    }\n",
    "    map[sandwich]--\n",
    "    result--\n",
    "  }\n",
    "  return result\n",
    "}\n"
   ]
  },
  {
   "cell_type": "code",
   "execution_count": 53,
   "id": "e4ff58d4",
   "metadata": {},
   "outputs": [
    {
     "data": {
      "text/plain": [
       "\u001b[33m2\u001b[39m"
      ]
     },
     "execution_count": 53,
     "metadata": {},
     "output_type": "execute_result"
    }
   ],
   "source": [
    "countStudents([1, 1], [0, 0]);"
   ]
  }
 ],
 "metadata": {
  "kernelspec": {
   "display_name": "Deno",
   "language": "typescript",
   "name": "deno"
  },
  "language_info": {
   "codemirror_mode": "typescript",
   "file_extension": ".ts",
   "mimetype": "text/x.typescript",
   "name": "typescript",
   "nbconvert_exporter": "script",
   "pygments_lexer": "typescript",
   "version": "5.8.3"
  }
 },
 "nbformat": 4,
 "nbformat_minor": 5
}
