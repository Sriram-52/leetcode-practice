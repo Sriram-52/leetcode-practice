{
 "cells": [
  {
   "cell_type": "code",
   "execution_count": 3,
   "id": "7b8d1bf8",
   "metadata": {},
   "outputs": [
    {
     "name": "stdout",
     "output_type": "stream",
     "text": [
      "{ window: Set(0) {}, r: 0, l: 0, number: 1 }\n",
      "{ window: Set(1) { 1 }, r: 1, l: 0, number: 2 }\n",
      "{ window: Set(2) { 1, 2 }, r: 2, l: 0, number: 3 }\n",
      "{ window: Set(3) { 1, 2, 3 }, r: 3, l: 0, number: 1 }\n"
     ]
    },
    {
     "data": {
      "text/plain": [
       "\u001b[33mtrue\u001b[39m"
      ]
     },
     "execution_count": 3,
     "metadata": {},
     "output_type": "execute_result"
    }
   ],
   "source": [
    "function containsNearbyDuplicate(nums: number[], k: number): boolean {\n",
    "\tlet l = 0,\n",
    "\t\tr = 0;\n",
    "\tconst window = new Set<number>();\n",
    "\twhile (r < nums.length) {\n",
    "    console.log({ window, r, l, number: nums[r] })\n",
    "\t\tif (r - l > k) {\n",
    "\t\t\twindow.delete(nums[l]);\n",
    "\t\t\tl++;\n",
    "\t\t}\n",
    "\t\tif (window.has(nums[r])) {\n",
    "\t\t\treturn true;\n",
    "\t\t}\n",
    "\t\twindow.add(nums[r]);\n",
    "\t\tr++;\n",
    "\t}\n",
    "\treturn false;\n",
    "}\n",
    "\n",
    "containsNearbyDuplicate([1, 2, 3, 1], 3);\n"
   ]
  },
  {
   "cell_type": "code",
   "execution_count": null,
   "id": "6878431d",
   "metadata": {},
   "outputs": [
    {
     "name": "stdout",
     "output_type": "stream",
     "text": [
      "{ l: 0, r: 2, currSum: 6 }\n",
      "{ l: 1, r: 3, currSum: 6 }\n",
      "{ l: 2, r: 4, currSum: 9 }\n",
      "{ l: 3, r: 5, currSum: 12 }\n",
      "{ l: 4, r: 6, currSum: 15 }\n",
      "{ l: 5, r: 7, currSum: 18 }\n"
     ]
    },
    {
     "data": {
      "text/plain": [
       "\u001b[33m3\u001b[39m"
      ]
     },
     "execution_count": 27,
     "metadata": {},
     "output_type": "execute_result"
    }
   ],
   "source": [
    "function numOfSubarrays(arr: number[], k: number, threshold: number): number {\n",
    "\tlet result = 0;\n",
    "\tlet currSum = 0;\n",
    "\tfor (let i = 0; i < k - 1; i++) {\n",
    "\t\tcurrSum += arr[i];\n",
    "\t}\n",
    "\tfor (let l = 0; l < arr.length - k + 1; l++) {\n",
    "\t\tcurrSum += arr[l + k - 1];\n",
    "\t\tif (currSum / k >= threshold) {\n",
    "\t\t\tresult++;\n",
    "\t\t}\n",
    "\t\tcurrSum -= arr[l];\n",
    "\t}\n",
    "\n",
    "\treturn result;\n",
    "}\n",
    "\n",
    "numOfSubarrays([2, 2, 2, 2, 5, 5, 5, 8], 3, 4);\n"
   ]
  },
  {
   "cell_type": "code",
   "execution_count": 37,
   "id": "58d7a18b",
   "metadata": {},
   "outputs": [
    {
     "name": "stdout",
     "output_type": "stream",
     "text": [
      "Testing longestSubArrayWithSameValue...\n",
      "\n",
      "Test 1: [4, 2, 2, 3, 3, 3]\n",
      "Expected: 3, Got: 3\n",
      "\n",
      "Test 2: [5, 5, 5, 5, 5]\n",
      "Expected: 5, Got: 5\n",
      "\n",
      "Test 3: [1, 2, 3, 4, 5]\n",
      "Expected: 1, Got: 1\n",
      "\n",
      "Test 4: [7]\n",
      "Expected: 1, Got: 1\n",
      "\n",
      "Test 5: []\n",
      "Expected: 0, Got: 0\n",
      "\n",
      "Test 6: [9, 9]\n",
      "Expected: 2, Got: 2\n",
      "\n",
      "Test 7: [8, 3]\n",
      "Expected: 1, Got: 1\n",
      "\n",
      "Test 8: [1, 1, 1, 1, 2, 3]\n",
      "Expected: 4, Got: 4\n",
      "\n",
      "Test 9: [1, 2, 3, 4, 4, 4, 4]\n",
      "Expected: 4, Got: 4\n",
      "\n",
      "Test 10: [1, 1, 2, 2, 3, 3]\n",
      "Expected: 2, Got: 2\n",
      "\n",
      "Test 11: [-1, -1, -1, 0, 0, 1]\n",
      "Expected: 3, Got: 3\n",
      "\n",
      "Test 12: [0, 0, 1, 0, 0, 0]\n",
      "Expected: 3, Got: 3\n"
     ]
    }
   ],
   "source": [
    "function longestSubArrayWithSameValue(arr: number[]): number {\n",
    "\tlet l = 0;\n",
    "\tlet maxLen = 0;\n",
    "\n",
    "\tfor (let r = 0; r < arr.length; r++) {\n",
    "\t\tif (arr[l] == arr[r]) {\n",
    "\t\t\tmaxLen = Math.max(maxLen, r - l + 1);\n",
    "\t\t} else {\n",
    "\t\t\tl = r;\n",
    "\t\t}\n",
    "\t}\n",
    "\n",
    "\treturn maxLen;\n",
    "}\n",
    "\n",
    "// Test cases for longestSubArrayWithSameValue\n",
    "console.log(\"Testing longestSubArrayWithSameValue...\\n\");\n",
    "\n",
    "// Test case 1: Basic example with multiple groups\n",
    "console.log(\"Test 1: [4, 2, 2, 3, 3, 3]\");\n",
    "console.log(\n",
    "\t\"Expected: 3, Got:\",\n",
    "\tlongestSubArrayWithSameValue([4, 2, 2, 3, 3, 3])\n",
    ");\n",
    "\n",
    "// Test case 2: All elements are the same\n",
    "console.log(\"\\nTest 2: [5, 5, 5, 5, 5]\");\n",
    "console.log(\"Expected: 5, Got:\", longestSubArrayWithSameValue([5, 5, 5, 5, 5]));\n",
    "\n",
    "// Test case 3: All elements are different\n",
    "console.log(\"\\nTest 3: [1, 2, 3, 4, 5]\");\n",
    "console.log(\"Expected: 1, Got:\", longestSubArrayWithSameValue([1, 2, 3, 4, 5]));\n",
    "\n",
    "// Test case 4: Single element\n",
    "console.log(\"\\nTest 4: [7]\");\n",
    "console.log(\"Expected: 1, Got:\", longestSubArrayWithSameValue([7]));\n",
    "\n",
    "// Test case 5: Empty array (edge case)\n",
    "console.log(\"\\nTest 5: []\");\n",
    "console.log(\"Expected: 0, Got:\", longestSubArrayWithSameValue([]));\n",
    "\n",
    "// Test case 6: Two elements same\n",
    "console.log(\"\\nTest 6: [9, 9]\");\n",
    "console.log(\"Expected: 2, Got:\", longestSubArrayWithSameValue([9, 9]));\n",
    "\n",
    "// Test case 7: Two elements different\n",
    "console.log(\"\\nTest 7: [8, 3]\");\n",
    "console.log(\"Expected: 1, Got:\", longestSubArrayWithSameValue([8, 3]));\n",
    "\n",
    "// Test case 8: Longest sequence at the beginning\n",
    "console.log(\"\\nTest 8: [1, 1, 1, 1, 2, 3]\");\n",
    "console.log(\n",
    "\t\"Expected: 4, Got:\",\n",
    "\tlongestSubArrayWithSameValue([1, 1, 1, 1, 2, 3])\n",
    ");\n",
    "\n",
    "// Test case 9: Longest sequence at the end\n",
    "console.log(\"\\nTest 9: [1, 2, 3, 4, 4, 4, 4]\");\n",
    "console.log(\n",
    "\t\"Expected: 4, Got:\",\n",
    "\tlongestSubArrayWithSameValue([1, 2, 3, 4, 4, 4, 4])\n",
    ");\n",
    "\n",
    "// Test case 10: Multiple sequences of same length\n",
    "console.log(\"\\nTest 10: [1, 1, 2, 2, 3, 3]\");\n",
    "console.log(\n",
    "\t\"Expected: 2, Got:\",\n",
    "\tlongestSubArrayWithSameValue([1, 1, 2, 2, 3, 3])\n",
    ");\n",
    "\n",
    "// Test case 11: Negative numbers\n",
    "console.log(\"\\nTest 11: [-1, -1, -1, 0, 0, 1]\");\n",
    "console.log(\n",
    "\t\"Expected: 3, Got:\",\n",
    "\tlongestSubArrayWithSameValue([-1, -1, -1, 0, 0, 1])\n",
    ");\n",
    "\n",
    "// Test case 12: Zero values\n",
    "console.log(\"\\nTest 12: [0, 0, 1, 0, 0, 0]\");\n",
    "console.log(\n",
    "\t\"Expected: 3, Got:\",\n",
    "\tlongestSubArrayWithSameValue([0, 0, 1, 0, 0, 0])\n",
    ");\n"
   ]
  },
  {
   "cell_type": "code",
   "execution_count": 42,
   "id": "9c48e385",
   "metadata": {},
   "outputs": [
    {
     "name": "stdout",
     "output_type": "stream",
     "text": [
      "{ l: 2, r: 2, total: 2, length: Infinity }\n",
      "{ l: 2, r: 3, total: 5, length: Infinity }\n",
      "{ l: 2, r: 1, total: 6, length: Infinity }\n",
      "{ l: 2, r: 2, total: 8, length: Infinity }\n",
      "{ l: 3, r: 4, total: 10, length: 4 }\n",
      "{ l: 2, r: 3, total: 9, length: 3 }\n"
     ]
    },
    {
     "data": {
      "text/plain": [
       "\u001b[33m2\u001b[39m"
      ]
     },
     "execution_count": 42,
     "metadata": {},
     "output_type": "execute_result"
    }
   ],
   "source": [
    "function minSubArrayLen(target: number, nums: number[]): number {\n",
    "\tlet l = 0,\n",
    "\t\tlength = Infinity,\n",
    "\t\ttotal = 0;\n",
    "\n",
    "\tfor (let r = 0; r < nums.length; r++) {\n",
    "\t\ttotal += nums[r];\n",
    "    console.log({ l: nums[l], r: nums[r], total, length });\n",
    "\t\twhile (total >= target) {\n",
    "\t\t\ttotal -= nums[l];\n",
    "\t\t\tlength = Math.min(length, r - l + 1);\n",
    "\t\t\tl++;\n",
    "\t\t}\n",
    "\t}\n",
    "\n",
    "\treturn length === Infinity ? 0 : length;\n",
    "}\n",
    "\n",
    "minSubArrayLen(7, [2, 3, 1, 2, 4, 3]);"
   ]
  },
  {
   "cell_type": "code",
   "execution_count": null,
   "id": "2551c485",
   "metadata": {},
   "outputs": [
    {
     "name": "stdout",
     "output_type": "stream",
     "text": [
      "{ l: 0, r: 0, substr: \"b\", maxLen: -Infinity }\n",
      "{ l: 0, r: 1, substr: \"bb\", maxLen: 1 }\n",
      "{ l: 1, r: 2, substr: \"bb\", maxLen: 1 }\n",
      "{ l: 2, r: 3, substr: \"bb\", maxLen: 1 }\n",
      "{ l: 3, r: 4, substr: \"bb\", maxLen: 1 }\n"
     ]
    },
    {
     "data": {
      "text/plain": [
       "\u001b[33m1\u001b[39m"
      ]
     },
     "execution_count": 12,
     "metadata": {},
     "output_type": "execute_result"
    }
   ],
   "source": [
    "function lengthOfLongestSubstring(s: string): number {\n",
    "\tlet l = 0,\n",
    "\t\tr = 0,\n",
    "\t\tmaxLen = -Infinity;\n",
    "\tconst hashMap = new Map<string, boolean>();\n",
    "\n",
    "\twhile (r < s.length) {\n",
    "\t\twhile (hashMap.has(s.charAt(r))) {\n",
    "\t\t\tconst leftKey = hashMap.keys().next().value;\n",
    "\t\t\thashMap.delete(leftKey);\n",
    "\t\t\tl++;\n",
    "\t\t}\n",
    "\t\thashMap.set(s.charAt(r), true);\n",
    "\t\tmaxLen = Math.max(maxLen, r - l + 1);\n",
    "\t\tr++;\n",
    "\t}\n",
    "\n",
    "\treturn maxLen !== -Infinity ? maxLen : 0;\n",
    "}\n",
    "\n",
    "lengthOfLongestSubstring(\"bbbbb\");\n"
   ]
  },
  {
   "cell_type": "code",
   "execution_count": null,
   "id": "fc4c7bf3",
   "metadata": {},
   "outputs": [
    {
     "data": {
      "text/plain": [
       "\u001b[33m5\u001b[39m"
      ]
     },
     "execution_count": 7,
     "metadata": {},
     "output_type": "execute_result"
    }
   ],
   "source": [
    "function characterReplacement(s: string, k: number): number {\n",
    "\tconst count: number[] = new Array(26).fill(0);\n",
    "\n",
    "\tlet l = 0,\n",
    "\t\tr = 0,\n",
    "\t\tmaxFreq = -Infinity,\n",
    "\t\tmaxLen = -Infinity;\n",
    "\twhile (r < s.length) {\n",
    "\t\tconst idx = s.charCodeAt(r) - \"A\".charCodeAt(0);\n",
    "\t\tcount[idx]++;\n",
    "\t\tmaxFreq = Math.max(maxFreq, count[idx]);\n",
    "\n",
    "\t\twhile (r - l + 1 - maxFreq > k) {\n",
    "\t\t\tconst idxOfL = s.charCodeAt(l) - \"A\".charCodeAt(0);\n",
    "\t\t\tcount[idxOfL]--;\n",
    "\t\t\tl++;\n",
    "\t\t}\n",
    "\t\tmaxLen = Math.max(maxLen, r - l + 1);\n",
    "\t\tr++;\n",
    "\t}\n",
    "\n",
    "\treturn maxLen;\n",
    "}\n",
    "\n",
    "characterReplacement(\n",
    "\t\"EQQEJDOBDPDPFPEIAQLQGDNIRDDGEHJIORMJPKGPLCPDFMIGHJNIIRSDSBRNJNROBALNSHCRFBASTLRMENCCIBJLGAITBFCSMPRO\",\n",
    "\t2\n",
    ");\n"
   ]
  }
 ],
 "metadata": {
  "kernelspec": {
   "display_name": "Deno",
   "language": "typescript",
   "name": "deno"
  },
  "language_info": {
   "codemirror_mode": "typescript",
   "file_extension": ".ts",
   "mimetype": "text/x.typescript",
   "name": "typescript",
   "nbconvert_exporter": "script",
   "pygments_lexer": "typescript",
   "version": "5.8.3"
  }
 },
 "nbformat": 4,
 "nbformat_minor": 5
}
