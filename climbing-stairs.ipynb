{
 "cells": [
  {
   "cell_type": "code",
   "execution_count": 1,
   "id": "38203556",
   "metadata": {},
   "outputs": [],
   "source": [
    "function climbStairs(n: number): number {\n",
    "  const cache = new Int32Array(n).fill(-1)\n",
    "  function dfs(i: number) {\n",
    "\t\tif (i >= n) {\n",
    "\t\t\treturn Number(i === n);\n",
    "\t\t}\n",
    "\t\tif (cache[i] !== -1) return cache[i];\n",
    "\t\tcache[i] = dfs(i + 1, n) + dfs(i + 2, n);\n",
    "\t\treturn cache[i];\n",
    "\t}\n",
    "  return dfs(0)\n",
    "}\n"
   ]
  },
  {
   "cell_type": "code",
   "execution_count": 2,
   "id": "3c8da68d",
   "metadata": {},
   "outputs": [
    {
     "data": {
      "text/plain": [
       "\u001b[33m1836311903\u001b[39m"
      ]
     },
     "execution_count": 2,
     "metadata": {},
     "output_type": "execute_result"
    }
   ],
   "source": [
    "climbStairs(45)"
   ]
  }
 ],
 "metadata": {
  "kernelspec": {
   "display_name": "Deno",
   "language": "typescript",
   "name": "deno"
  },
  "language_info": {
   "codemirror_mode": "typescript",
   "file_extension": ".ts",
   "mimetype": "text/x.typescript",
   "name": "typescript",
   "nbconvert_exporter": "script",
   "pygments_lexer": "typescript",
   "version": "5.8.3"
  }
 },
 "nbformat": 4,
 "nbformat_minor": 5
}
