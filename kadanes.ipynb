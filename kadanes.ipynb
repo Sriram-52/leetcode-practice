{
 "cells": [
  {
   "cell_type": "code",
   "execution_count": null,
   "id": "28e69bb6",
   "metadata": {},
   "outputs": [],
   "source": [
    "function maxSubArray(nums: number[]): number {\n",
    "\tlet maxSum = nums[0];\n",
    "\tlet currSum = 0;\n",
    "\n",
    "\tfor (const num of nums) {\n",
    "\t\tif (currSum < 0) {\n",
    "\t\t\tcurrSum = 0;\n",
    "\t\t}\n",
    "\t\tcurrSum += num;\n",
    "\t\tmaxSum = Math.max(currSum, maxSum);\n",
    "\t}\n",
    "\n",
    "\treturn maxSum;\n",
    "}\n"
   ]
  },
  {
   "cell_type": "code",
   "execution_count": 2,
   "id": "2d105aea",
   "metadata": {},
   "outputs": [
    {
     "name": "stdout",
     "output_type": "stream",
     "text": [
      "{ globalMax: 4, globalMin: -13, total: -8 }\n"
     ]
    },
    {
     "data": {
      "text/plain": [
       "\u001b[33m5\u001b[39m"
      ]
     },
     "execution_count": 2,
     "metadata": {},
     "output_type": "execute_result"
    }
   ],
   "source": [
    "function maxSubarraySumCircular(nums: number[]): number {\n",
    "\tlet globalMax = nums[0],\n",
    "\t\tglobalMin = nums[0],\n",
    "\t\tcurrMax = 0,\n",
    "\t\tcurrMin = 0,\n",
    "\t\ttotal = 0;\n",
    "\n",
    "\tfor (const num of nums) {\n",
    "\t\tcurrMax = Math.max(currMax + num, num);\n",
    "\t\tcurrMin = Math.min(currMin + num, num);\n",
    "\t\tglobalMax = Math.max(globalMax, currMax);\n",
    "\t\tglobalMin = Math.min(globalMin, currMin);\n",
    "\t\ttotal += num;\n",
    "\t}\n",
    "  console.log({ globalMax, globalMin, total })\n",
    "\treturn globalMax > 0 ? Math.max(globalMax, total - globalMin) : globalMax;\n",
    "}\n",
    "\n",
    "maxSubarraySumCircular([1, -6, -7, 4])\n"
   ]
  },
  {
   "cell_type": "code",
   "execution_count": 8,
   "id": "3d6999b6",
   "metadata": {},
   "outputs": [
    {
     "name": "stdout",
     "output_type": "stream",
     "text": [
      "{ res: 0, prev: \"\", l: 0, r: 1, arr1: 9, arr2: 4 }\n",
      "{ res: 2, prev: \">\", l: 0, r: 2, arr1: 4, arr2: 2 }\n",
      "failed for { l: 0, r: 2, arr1: 4, arr2: 2 }\n",
      "equal increasing r\n",
      "new { l: 2, r: 3, arr1: 2, arr2: 10 }\n",
      "{ res: 2, prev: \"\", l: 2, r: 3, arr1: 2, arr2: 10 }\n",
      "{ res: 2, prev: \"<\", l: 2, r: 4, arr1: 10, arr2: 7 }\n",
      "{ res: 3, prev: \">\", l: 2, r: 5, arr1: 7, arr2: 8 }\n",
      "{ res: 4, prev: \"<\", l: 2, r: 6, arr1: 8, arr2: 8 }\n",
      "failed for { l: 2, r: 6, arr1: 8, arr2: 8 }\n",
      "equal increasing r\n",
      "new { l: 6, r: 7, arr1: 8, arr2: 1 }\n",
      "{ res: 4, prev: \"\", l: 6, r: 7, arr1: 8, arr2: 1 }\n",
      "{ res: 4, prev: \">\", l: 6, r: 8, arr1: 1, arr2: 9 }\n"
     ]
    },
    {
     "data": {
      "text/plain": [
       "\u001b[33m4\u001b[39m"
      ]
     },
     "execution_count": 8,
     "metadata": {},
     "output_type": "execute_result"
    }
   ],
   "source": [
    "function maxTurbulenceSize(arr: number[]): number {\n",
    "\tlet res = 0,\n",
    "\t\tprev = \"\",\n",
    "\t\tl = 0,\n",
    "\t\tr = 1;\n",
    "\n",
    "\twhile (r < arr.length) {\n",
    "    console.log({ res, prev, l, r, arr1: arr[r - 1], arr2: arr[r] })\n",
    "\t\tif (arr[r - 1] > arr[r] && prev !== \">\") {\n",
    "\t\t\tres = Math.max(res, r - l + 1);\n",
    "\t\t\tr += 1;\n",
    "\t\t\tprev = \">\";\n",
    "\t\t} else if (arr[r - 1] < arr[r] && prev !== \"<\") {\n",
    "\t\t\tres = Math.max(res, r - l + 1);\n",
    "\t\t\tr += 1;\n",
    "\t\t\tprev = \"<\";\n",
    "\t\t} else {\n",
    "      console.log(\"failed for\", { l, r, arr1: arr[r - 1], arr2: arr[r] });\n",
    "\t\t\tif (res[r - 1] === res[r]) {\n",
    "        console.log('equal increasing r')\n",
    "\t\t\t\tr = r + 1;\n",
    "\t\t\t}\n",
    "\t\t\tl = r - 1;\n",
    "\t\t\tprev = \"\";\n",
    "      console.log(\"new\", { l, r, arr1: arr[r - 1], arr2: arr[r] });\n",
    "\t\t}\n",
    "\t}\n",
    "\n",
    "\treturn res;\n",
    "}\n",
    "\n",
    "maxTurbulenceSize([9, 4, 2, 10, 7, 8, 8, 1, 9]);\n"
   ]
  }
 ],
 "metadata": {
  "kernelspec": {
   "display_name": "Deno",
   "language": "typescript",
   "name": "deno"
  },
  "language_info": {
   "codemirror_mode": "typescript",
   "file_extension": ".ts",
   "mimetype": "text/x.typescript",
   "name": "typescript",
   "nbconvert_exporter": "script",
   "pygments_lexer": "typescript",
   "version": "5.8.3"
  }
 },
 "nbformat": 4,
 "nbformat_minor": 5
}
