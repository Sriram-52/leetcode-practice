{
 "cells": [
  {
   "cell_type": "code",
   "execution_count": 20,
   "id": "8951abb7",
   "metadata": {},
   "outputs": [],
   "source": [
    "class MyQueue {\n",
    "  private queue: number[]\n",
    "\n",
    "  constructor() {\n",
    "    this.queue = []\n",
    "  }\n",
    "\n",
    "  get size() {\n",
    "    return this.queue.length\n",
    "  }\n",
    "\n",
    "  get peekAtEnd() {\n",
    "    return this.queue.at(-1)\n",
    "  }\n",
    "\n",
    "  enqueue(val: number) {\n",
    "    this.queue.push(val)\n",
    "  }\n",
    "\n",
    "  dequeue() {\n",
    "    return this.queue.splice(0, 1)?.at(0)\n",
    "  }\n",
    "}"
   ]
  },
  {
   "cell_type": "code",
   "execution_count": 21,
   "id": "9f6cb742",
   "metadata": {},
   "outputs": [],
   "source": [
    "class MyStack {\n",
    "   queue: MyQueue\n",
    "\t\n",
    "  constructor() {\n",
    "    this.queue = new MyQueue()\n",
    "  }\n",
    "\n",
    "\tpush(x: number): void {\n",
    "    this.queue.enqueue(x)\n",
    "  }\n",
    "\n",
    "\tpop(): number {\n",
    "    let deQueueSize = this.queue.size - 1\n",
    "    while (deQueueSize) {\n",
    "      this.queue.enqueue(this.queue.dequeue())\n",
    "      deQueueSize--\n",
    "    }\n",
    "    return this.queue.dequeue()\n",
    "  }\n",
    "\n",
    "\ttop(): number {\n",
    "    return this.queue.peekAtEnd\n",
    "  }\n",
    "\n",
    "\tempty(): boolean {\n",
    "    return this.queue.size === 0\n",
    "  }\n",
    "}\n",
    "\n",
    "/**\n",
    " * Your MyStack object will be instantiated and called as such:\n",
    " * var obj = new MyStack()\n",
    " * obj.push(x)\n",
    " * var param_2 = obj.pop()\n",
    " * var param_3 = obj.top()\n",
    " * var param_4 = obj.empty()\n",
    " */\n"
   ]
  },
  {
   "cell_type": "code",
   "execution_count": 22,
   "id": "59aaedb0",
   "metadata": {},
   "outputs": [
    {
     "data": {
      "text/plain": [
       "\u001b[33m4\u001b[39m"
      ]
     },
     "execution_count": 22,
     "metadata": {},
     "output_type": "execute_result"
    }
   ],
   "source": [
    "const obj = new MyStack()\n",
    "obj.push(1)\n",
    "obj.push(2);\n",
    "obj.push(3);\n",
    "obj.push(4);\n",
    "obj.push(2);\n",
    "obj.top()\n",
    "obj.pop()\n",
    "obj.top()\n"
   ]
  }
 ],
 "metadata": {
  "kernelspec": {
   "display_name": "Deno",
   "language": "typescript",
   "name": "deno"
  },
  "language_info": {
   "codemirror_mode": "typescript",
   "file_extension": ".ts",
   "mimetype": "text/x.typescript",
   "name": "typescript",
   "nbconvert_exporter": "script",
   "pygments_lexer": "typescript",
   "version": "5.8.3"
  }
 },
 "nbformat": 4,
 "nbformat_minor": 5
}
