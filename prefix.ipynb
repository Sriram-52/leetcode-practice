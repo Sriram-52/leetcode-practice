{
 "cells": [
  {
   "cell_type": "code",
   "execution_count": null,
   "id": "22655d54",
   "metadata": {},
   "outputs": [],
   "source": [
    "class NumArray {\n",
    "\tprivate total: number;\n",
    "\tprivate prefix: number[];\n",
    "\n",
    "\tconstructor(nums: number[]) {\n",
    "\t\tthis.total = 0;\n",
    "\t\tthis.prefix = [];\n",
    "\t\tfor (const num of nums) {\n",
    "\t\t\tthis.total += num;\n",
    "\t\t\tthis.prefix.push(this.total);\n",
    "\t\t}\n",
    "\t}\n",
    "\n",
    "\tsumRange(left: number, right: number): number {\n",
    "\t\tconst prefixRight = this.prefix[right];\n",
    "\t\tconst prefixLeft = left > 0 ? this.prefix[left] : 0;\n",
    "\t\treturn prefixRight - prefixLeft;\n",
    "\t}\n",
    "}\n"
   ]
  },
  {
   "cell_type": "code",
   "execution_count": null,
   "id": "24bf2121",
   "metadata": {},
   "outputs": [
    {
     "name": "stdout",
     "output_type": "stream",
     "text": [
      "[\n",
      "  [ 0, 0, 0, 0, 0, 0 ],\n",
      "  [ 0, 3, 3, 4, 8, 10 ],\n",
      "  [ 0, 8, 14, 18, 24, 27 ],\n",
      "  [ 0, 9, 17, 21, 28, 36 ],\n",
      "  [ 0, 13, 22, 26, 34, 49 ],\n",
      "  [ 0, 14, 23, 30, 38, 58 ]\n",
      "]\n",
      "{ whole: 38, upper: 24, left: 14, extra: 8 }\n"
     ]
    },
    {
     "data": {
      "text/plain": [
       "\u001b[33m8\u001b[39m"
      ]
     },
     "execution_count": 15,
     "metadata": {},
     "output_type": "execute_result"
    }
   ],
   "source": [
    "class NumMatrix {\n",
    "\tprivate prefix: number[][];\n",
    "\n",
    "\tconstructor(matrix: number[][]) {\n",
    "\t\tthis.prefix = new Array(matrix.length + 1)\n",
    "\t\t\t.fill(0)\n",
    "\t\t\t.map(() => new Array(matrix[0].length + 1).fill(0));\n",
    "\t\tfor (let r = 0; r < matrix.length; r++) {\n",
    "\t\t\tlet sum = 0;\n",
    "\t\t\tfor (let c = 0; c < matrix[0].length; c++) {\n",
    "\t\t\t\tsum += matrix[r][c];\n",
    "\t\t\t\tconst above = this.prefix[r][c + 1];\n",
    "\t\t\t\tthis.prefix[r + 1][c + 1] = sum + above;\n",
    "\t\t\t}\n",
    "\t\t}\n",
    "\t}\n",
    "\n",
    "\tsumRegion(row1: number, col1: number, row2: number, col2: number): number {\n",
    "\t\tconst whole = this.prefix[row2 + 1][col2 + 1];\n",
    "\t\tconst upper = this.prefix[row1][col2 + 1];\n",
    "\t\tconst left = this.prefix[row2 + 1][col1];\n",
    "\t\tconst extra = this.prefix[row1][col1];\n",
    "\t\treturn whole - upper - left + extra;\n",
    "\t}\n",
    "}\n",
    "\n",
    "const matrix = [\n",
    "\t[3, 0, 1, 4, 2],\n",
    "\t[5, 6, 3, 2, 1],\n",
    "\t[1, 2, 0, 1, 5],\n",
    "\t[4, 1, 0, 1, 7],\n",
    "\t[1, 0, 3, 0, 5],\n",
    "];\n",
    "const obj = new NumMatrix(matrix);\n",
    "obj.sumRegion(2, 1, 4, 3);\n"
   ]
  },
  {
   "cell_type": "code",
   "execution_count": 46,
   "id": "e2f83f43",
   "metadata": {},
   "outputs": [
    {
     "data": {
      "text/plain": [
       "\u001b[33m1\u001b[39m"
      ]
     },
     "execution_count": 46,
     "metadata": {},
     "output_type": "execute_result"
    }
   ],
   "source": [
    "class NumArray {\n",
    "\tprivate total: number;\n",
    "\tpublic prefix: number[];\n",
    "\n",
    "\tconstructor(nums: number[]) {\n",
    "\t\tthis.total = 0;\n",
    "\t\tthis.prefix = [];\n",
    "\t\tfor (const num of nums) {\n",
    "\t\t\tthis.total += num;\n",
    "\t\t\tthis.prefix.push(this.total);\n",
    "\t\t}\n",
    "\t\tconsole.log(this.prefix);\n",
    "\t}\n",
    "\n",
    "\tsumRange(left: number, right: number): number {\n",
    "\t\tif (left === 0 && right === 0) {\n",
    "\t\t\treturn this.prefix[0];\n",
    "\t\t}\n",
    "\t\tconst prefixRight = right > 0 ? this.prefix[right] : 0;\n",
    "\t\tconst prefixLeft = left > 0 ? this.prefix[left - 1] : this.prefix[left];\n",
    "\t\treturn prefixRight - prefixLeft;\n",
    "\t}\n",
    "}\n",
    "\n",
    "function pivotIndex(nums: number[]): number {\n",
    "\tconst total = nums.reduce((a, b) => a + b, 0);\n",
    "\tlet leftSum = 0;\n",
    "\tfor (let i = 0; i < nums.length; i++) {\n",
    "\t\tconst rightSum = total - nums[i] - leftSum;\n",
    "\t\tif (rightSum === leftSum) {\n",
    "\t\t\treturn i;\n",
    "\t\t}\n",
    "\t\tleftSum += nums[i];\n",
    "\t}\n",
    "\treturn i;\n",
    "}\n",
    "\n",
    "pivotIndex([-1, -1, -1, -1, 0, 1]);\n",
    "// pivotIndex([1, 7, 3, 6, 5, 6]);\n",
    "// pivotIndex([1, 2, 3]);\n",
    "// pivotIndex([2, 1, -1]);\n",
    "\n",
    "// 1 8 11 17 22 28\n",
    "// 28 27 20 17 11 6\n",
    "\n",
    "// 1 3 6\n",
    "// 6 5 3\n",
    "\n",
    "// 2 3 2\n",
    "// 2 0 -1\n"
   ]
  },
  {
   "cell_type": "code",
   "execution_count": null,
   "id": "4ad17bd6",
   "metadata": {},
   "outputs": [],
   "source": [
    "function productExceptSelf(nums: number[]): number[] {\n",
    "\tlet n = nums.length;\n",
    "\tlet postfix = new Array(n);\n",
    "\tlet prefix = new Array(n);\n",
    "\tlet res = new Array(n);\n",
    "\n",
    "\tprefix[0] = 1;\n",
    "\tpostfix[n - 1] = 1;\n",
    "\tfor (let i = 1; i < n; i++) {\n",
    "\t\tprefix[i] = nums[i - 1] * prefix[i - 1];\n",
    "\t}\n",
    "\tfor (let i = n - 2; i >= 0; i--) {\n",
    "\t\tpostfix[i] = nums[i + 1] * postfix[i + 1];\n",
    "\t}\n",
    "\tfor (let i = 0; i < n; i++) {\n",
    "\t\tres[i] = postfix[i] * postfix[i];\n",
    "\t}\n",
    "\n",
    "\treturn res;\n",
    "}\n",
    "\n",
    "// [1, 2, 3, 4]\n",
    "\n",
    "// [1, 2, 6, 24]\n",
    "// [24,24,12,4]\n",
    "\n",
    "// [24, 12, 8, 6]\n"
   ]
  },
  {
   "cell_type": "code",
   "execution_count": 3,
   "id": "a639f2a7",
   "metadata": {},
   "outputs": [
    {
     "name": "stdout",
     "output_type": "stream",
     "text": [
      "{ curr: 1, res: 0, map: Map(2) { 0 => 1, 1 => 1 } }\n",
      "{ curr: 2, res: 1, map: Map(3) { 0 => 1, 1 => 1, 2 => 1 } }\n",
      "{ curr: 3, res: 2, map: Map(4) { 0 => 1, 1 => 1, 2 => 1, 3 => 1 } }\n"
     ]
    },
    {
     "data": {
      "text/plain": [
       "\u001b[33m2\u001b[39m"
      ]
     },
     "execution_count": 3,
     "metadata": {},
     "output_type": "execute_result"
    }
   ],
   "source": [
    "// 1, 1, 1 | k = 2\n",
    "/*\n",
    "\n",
    "  curr = 0, res = 0, prefix = { 0: 1 }\n",
    "\n",
    "  curr += n\n",
    "  res += prefix.get(diff, 0)\n",
    "  prefix[curr] = 1 + refix.get(curr, 0)\n",
    "\n",
    "  1 ->\n",
    "  curr = 1\n",
    "  diff = 1 - 2 = -1\n",
    "  res = 0\n",
    "  prefix = { 0: 1, 1: 1 }\n",
    "\n",
    "  2 ->\n",
    "  curr = 2\n",
    "  diff = 2 - 2 = 2\n",
    "  res = 1\n",
    "  prefix = { 0: 1, 1: 1, 2: 1 }\n",
    "\n",
    "  3 ->\n",
    "  curr = 3\n",
    "  diff = 3 - 2 = 1\n",
    "  res = 1 + 1 = 2\n",
    "  prefix = { 0: 1, 2: 1, 3: 1 }\n",
    "\n",
    "  end\n",
    "\n",
    "  return 2\n",
    "\n",
    "  */\n",
    "\n",
    "function subarraySum(nums: number[], k: number): number {\n",
    "\tlet curr = 0,\n",
    "\t\tres = 0,\n",
    "\t\tmap: Map<number, number> = new Map();\n",
    "\tmap.set(0, 1);\n",
    "\n",
    "\tfor (const num of nums) {\n",
    "\t\tcurr += num;\n",
    "\t\tconst diff = curr - k;\n",
    "\t\tres += map.get(diff) || 0;\n",
    "\t\tmap.set(curr, 1 + (map.get(curr) || 0));\n",
    "\t\tconsole.log({ curr, res, map });\n",
    "\t}\n",
    "\n",
    "\treturn res;\n",
    "}\n",
    "\n",
    "subarraySum([1, 1, 1], 2);\n"
   ]
  }
 ],
 "metadata": {
  "kernelspec": {
   "display_name": "Deno",
   "language": "typescript",
   "name": "deno"
  },
  "language_info": {
   "codemirror_mode": "typescript",
   "file_extension": ".ts",
   "mimetype": "text/x.typescript",
   "name": "typescript",
   "nbconvert_exporter": "script",
   "pygments_lexer": "typescript",
   "version": "5.8.3"
  }
 },
 "nbformat": 4,
 "nbformat_minor": 5
}
