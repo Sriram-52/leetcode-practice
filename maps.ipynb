{
 "cells": [
  {
   "cell_type": "code",
   "execution_count": null,
   "id": "9bd07d05",
   "metadata": {},
   "outputs": [
    {
     "data": {
      "text/plain": [
       "\u001b[33mfalse\u001b[39m"
      ]
     },
     "execution_count": 1,
     "metadata": {},
     "output_type": "execute_result"
    }
   ],
   "source": [
    "function containsDuplicate(nums: number[]): boolean {\n",
    "\tconst map = new Map<number, number>();\n",
    "\n",
    "\tfor (const num of nums) {\n",
    "\t\tif (map.get(num)) {\n",
    "\t\t\treturn true;\n",
    "\t\t}\n",
    "\t\tmap.set(num, 1);\n",
    "\t}\n",
    "  \n",
    "\treturn false;\n",
    "}\n",
    "\n",
    "containsDuplicate([1, 2, 3, 1]);\n"
   ]
  },
  {
   "cell_type": "code",
   "execution_count": null,
   "id": "296fa086",
   "metadata": {},
   "outputs": [
    {
     "data": {
      "text/plain": [
       "[ \u001b[33m0\u001b[39m, \u001b[33m1\u001b[39m ]"
      ]
     },
     "execution_count": 9,
     "metadata": {},
     "output_type": "execute_result"
    }
   ],
   "source": [
    "function twoSum(nums: number[], target: number): number[] {\n",
    "\tconst map = new Map<number, number>();\n",
    "\n",
    "\tfor (let i = 0; i < nums.length; i++) {\n",
    "\t\tmap.set(nums[i], i);\n",
    "\t}\n",
    "\n",
    "\tfor (let i = 0; i < nums.length; i++) {\n",
    "\t\tconst num1 = nums[i];\n",
    "\t\tconst num2 = target - num1;\n",
    "\t\tif (map.get(num2) && map.get(num2) !== i) {\n",
    "\t\t\treturn [i, map.get(num2)];\n",
    "\t\t}\n",
    "\t}\n",
    "\n",
    "\treturn [];\n",
    "}\n",
    "\n",
    "twoSum([2, 7, 11, 15], 9);\n"
   ]
  },
  {
   "cell_type": "code",
   "execution_count": 10,
   "id": "f2134ec7",
   "metadata": {},
   "outputs": [],
   "source": [
    "class LRUCache {\n",
    "\tprivate cache: Map<number, number>;\n",
    "\tprivate capacity: number;\n",
    "\n",
    "\tconstructor(capacity: number) {\n",
    "\t\tthis.capacity = capacity;\n",
    "\t\tthis.cache = new Map();\n",
    "\t}\n",
    "\n",
    "\tget(key: number): number {\n",
    "\t\tif (!this.cache.has(key)) {\n",
    "\t\t\treturn -1;\n",
    "\t\t}\n",
    "\t\tconst value = this.cache.get(key);\n",
    "\t\tthis.cache.delete(key);\n",
    "\t\tthis.cache.set(key, value);\n",
    "\t\treturn value;\n",
    "\t}\n",
    "\n",
    "\tput(key: number, value: number): void {\n",
    "\t\tif (this.cache.has(key)) {\n",
    "\t\t\tthis.cache.delete(key);\n",
    "\t\t} else if (this.cache.size === this.capacity) {\n",
    "\t\t\tconst leastKey = this.cache.keys().next().value;\n",
    "\t\t\tthis.cache.delete(leastKey);\n",
    "\t\t}\n",
    "\t\tthis.cache.set(key, value);\n",
    "\t}\n",
    "}\n"
   ]
  },
  {
   "cell_type": "code",
   "execution_count": 11,
   "id": "6f1971df",
   "metadata": {},
   "outputs": [
    {
     "name": "stdout",
     "output_type": "stream",
     "text": [
      "-1\n"
     ]
    },
    {
     "data": {
      "text/plain": [
       "\u001b[33m3\u001b[39m"
      ]
     },
     "execution_count": 11,
     "metadata": {},
     "output_type": "execute_result"
    }
   ],
   "source": [
    "const lruCache = new LRUCache(2);\n",
    "lruCache.put(2, 1);\n",
    "lruCache.put(1, 1);\n",
    "lruCache.put(2, 3)\n",
    "lruCache.put(4, 1)\n",
    "console.log(lruCache.get(1))\n",
    "lruCache.get(2)\n"
   ]
  }
 ],
 "metadata": {
  "kernelspec": {
   "display_name": "Deno",
   "language": "typescript",
   "name": "deno"
  },
  "language_info": {
   "codemirror_mode": "typescript",
   "file_extension": ".ts",
   "mimetype": "text/x.typescript",
   "name": "typescript",
   "nbconvert_exporter": "script",
   "pygments_lexer": "typescript",
   "version": "5.8.3"
  }
 },
 "nbformat": 4,
 "nbformat_minor": 5
}
