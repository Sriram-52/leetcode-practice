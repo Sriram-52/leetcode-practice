{
 "cells": [
  {
   "cell_type": "code",
   "execution_count": null,
   "id": "9c7e4442",
   "metadata": {},
   "outputs": [
    {
     "name": "stdout",
     "output_type": "stream",
     "text": [
      "amanaplanacanalpanama 0 20\n"
     ]
    },
    {
     "data": {
      "text/plain": [
       "\u001b[33mtrue\u001b[39m"
      ]
     },
     "execution_count": 15,
     "metadata": {},
     "output_type": "execute_result"
    }
   ],
   "source": [
    "function isPalindrome(s: string): boolean {\n",
    "\ts = s.toLowerCase().replaceAll(new RegExp(/[^a-z]/g), \"\");\n",
    "\tlet l = 0,\n",
    "\t\tr = s.length - 1;\n",
    "\n",
    "\twhile (l < r) {\n",
    "\t\tif (s[l] !== s[r]) {\n",
    "\t\t\tconsole.log(l, r);\n",
    "\t\t\treturn false;\n",
    "\t\t}\n",
    "\t\tl++;\n",
    "\t\tr--;\n",
    "\t}\n",
    "\n",
    "\treturn true;\n",
    "}\n",
    "\n",
    "isPalindrome(\"amanaplanacanalpanama\");\n"
   ]
  },
  {
   "cell_type": "code",
   "execution_count": null,
   "id": "dc3b4daf",
   "metadata": {},
   "outputs": [],
   "source": [
    "function twoSum(numbers: number[], target: number): number[] {\n",
    "\tlet l = 0,\n",
    "\t\tr = numbers.length - 1;\n",
    "\n",
    "\twhile (l < r) {\n",
    "\t\tconst sum = numbers[l] + numbers[r];\n",
    "\n",
    "\t\tif (sum === target) {\n",
    "\t\t\treturn [l, r];\n",
    "\t\t} else if (sum > target) {\n",
    "\t\t\tr--;\n",
    "\t\t} else {\n",
    "\t\t\tl++;\n",
    "\t\t}\n",
    "\t}\n",
    "\n",
    "\treturn [-1, -1];\n",
    "}\n"
   ]
  },
  {
   "cell_type": "code",
   "execution_count": 28,
   "id": "59d194f0",
   "metadata": {},
   "outputs": [
    {
     "data": {
      "text/plain": [
       "\u001b[33m5\u001b[39m"
      ]
     },
     "execution_count": 28,
     "metadata": {},
     "output_type": "execute_result"
    }
   ],
   "source": [
    "function removeDuplicates(nums: number[]): number {\n",
    "\tlet l = 1;\n",
    "\tfor (let r = 1; r < nums.length; r++) {\n",
    "\t\tif (nums[r - 1] !== nums[r]) {\n",
    "\t\t\tnums[l] = nums[r];\n",
    "\t\t\tl++;\n",
    "\t\t}\n",
    "\t}\n",
    "\treturn l;\n",
    "}\n",
    "\n",
    "removeDuplicates([0, 0, 1, 1, 1, 2, 2, 3, 3, 4]);\n"
   ]
  },
  {
   "cell_type": "code",
   "execution_count": 32,
   "id": "3eb7cdd3",
   "metadata": {},
   "outputs": [
    {
     "name": "stdout",
     "output_type": "stream",
     "text": [
      "[ 1, 1, 2, 2, 3, 3 ]\n"
     ]
    },
    {
     "data": {
      "text/plain": [
       "\u001b[33m5\u001b[39m"
      ]
     },
     "execution_count": 32,
     "metadata": {},
     "output_type": "execute_result"
    }
   ],
   "source": [
    "function removeDuplicates(nums: number[]): number {\n",
    "  let l = 0, r = 0\n",
    "  while (r < nums.length) {\n",
    "    let count = 1\n",
    "    while (r + 1 < nums.length && nums[r] === nums[r + 1]) {\n",
    "      r++\n",
    "      count += 1\n",
    "    }\n",
    "    for (let i = 0; i < Math.min(2, count); i++) {\n",
    "      nums[l] = nums[r]\n",
    "      l++\n",
    "    }\n",
    "    r++\n",
    "  }\n",
    "  console.log(nums)\n",
    "  return l\n",
    "}\n",
    "\n",
    "removeDuplicates([1, 1, 1, 2, 2, 3]);"
   ]
  },
  {
   "cell_type": "code",
   "execution_count": null,
   "id": "6fc8d98f",
   "metadata": {},
   "outputs": [],
   "source": [
    "function maxArea(height: number[]): number {\n",
    "\tlet l = 0,\n",
    "\t\tr = height.length - 1,\n",
    "\t\tres = 0;\n",
    "\n",
    "\twhile (l < r) {\n",
    "\t\tconst area = (r - l) * Math.min(height[l], height[r]);\n",
    "\t\tres = Math.max(area, res);\n",
    "\t\tif (height[l] < height[r]) {\n",
    "\t\t\tl++;\n",
    "\t\t} else {\n",
    "\t\t\tr--;\n",
    "\t\t}\n",
    "\t}\n",
    "\n",
    "\treturn res;\n",
    "}\n"
   ]
  }
 ],
 "metadata": {
  "kernelspec": {
   "display_name": "Deno",
   "language": "typescript",
   "name": "deno"
  },
  "language_info": {
   "codemirror_mode": "typescript",
   "file_extension": ".ts",
   "mimetype": "text/x.typescript",
   "name": "typescript",
   "nbconvert_exporter": "script",
   "pygments_lexer": "typescript",
   "version": "5.8.3"
  }
 },
 "nbformat": 4,
 "nbformat_minor": 5
}
