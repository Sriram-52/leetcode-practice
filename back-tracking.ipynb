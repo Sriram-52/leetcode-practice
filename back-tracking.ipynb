{
 "cells": [
  {
   "cell_type": "code",
   "execution_count": null,
   "id": "99e70de7",
   "metadata": {},
   "outputs": [],
   "source": [
    "class TreeNode {\n",
    "\tval: number;\n",
    "\tleft: TreeNode | null;\n",
    "\tright: TreeNode | null;\n",
    "\tconstructor(val?: number, left?: TreeNode | null, right?: TreeNode | null) {\n",
    "\t\tthis.val = val === undefined ? 0 : val;\n",
    "\t\tthis.left = left === undefined ? null : left;\n",
    "\t\tthis.right = right === undefined ? null : right;\n",
    "\t}\n",
    "}\n"
   ]
  },
  {
   "cell_type": "code",
   "execution_count": null,
   "id": "d2e0f560",
   "metadata": {},
   "outputs": [
    {
     "name": "stdout",
     "output_type": "stream",
     "text": [
      "true\n"
     ]
    }
   ],
   "source": [
    "function hasPathSum(root: TreeNode | null, targetSum: number): boolean {\n",
    "\tlet sum = 0;\n",
    "\tfunction traverse(root: TreeNode | null, sum: number): boolean {\n",
    "\t\tif (!root && sum !== targetSum) {\n",
    "\t\t\treturn false;\n",
    "\t\t}\n",
    "\t\tsum += root?.val;\n",
    "\t\tif (!root?.left && !root?.right && sum === targetSum) {\n",
    "\t\t\treturn true;\n",
    "\t\t}\n",
    "\t\tif (traverse(root?.left, sum)) {\n",
    "\t\t\treturn true;\n",
    "\t\t}\n",
    "\t\tif (traverse(root?.right, sum)) {\n",
    "\t\t\treturn true;\n",
    "\t\t}\n",
    "\t\tsum = 0;\n",
    "\t\treturn false;\n",
    "\t}\n",
    "\tconst result = traverse(root, sum);\n",
    "\treturn result;\n",
    "}\n",
    "\n",
    "const root = {\n",
    "\tval: 5,\n",
    "\tleft: {\n",
    "\t\tval: 4,\n",
    "\t\tleft: {\n",
    "\t\t\tval: 11,\n",
    "\t\t\tleft: {\n",
    "\t\t\t\tval: 7,\n",
    "\t\t\t},\n",
    "\t\t\tright: {\n",
    "\t\t\t\tval: 2,\n",
    "\t\t\t},\n",
    "\t\t},\n",
    "\t},\n",
    "\tright: {\n",
    "\t\tval: 8,\n",
    "\t\tleft: {\n",
    "\t\t\tval: 13,\n",
    "\t\t},\n",
    "\t\tright: {\n",
    "\t\t\tval: 4,\n",
    "\t\t\tright: {\n",
    "\t\t\t\tval: 1,\n",
    "\t\t\t},\n",
    "\t\t},\n",
    "\t},\n",
    "};\n",
    "console.log(hasPathSum(root, 22));\n"
   ]
  },
  {
   "cell_type": "code",
   "execution_count": null,
   "id": "f821a979",
   "metadata": {},
   "outputs": [
    {
     "name": "stdout",
     "output_type": "stream",
     "text": [
      "[\n",
      "  [ 1, 2, 3 ], [ 1, 2 ],\n",
      "  [ 1, 3 ],    [ 1 ],\n",
      "  [ 2, 3 ],    [ 2 ],\n",
      "  [ 3 ],       []\n",
      "]\n"
     ]
    }
   ],
   "source": [
    "function subsets(nums: number[]): number[][] {\n",
    "\tconst result: number[][] = [];\n",
    "\n",
    "\tfunction build(i: number, curr: number[]) {\n",
    "\t\tif (i >= nums.length) {\n",
    "\t\t\tresult.push(JSON.parse(JSON.stringify(curr)));\n",
    "\t\t\treturn;\n",
    "\t\t}\n",
    "\t\tcurr.push(nums[i]);\n",
    "\t\tbuild(i + 1, curr);\n",
    "\t\tcurr.pop();\n",
    "\t\tbuild(i + 1, curr);\n",
    "\t}\n",
    "\n",
    "\tbuild(0, []);\n",
    "\n",
    "\treturn result;\n",
    "}\n",
    "\n",
    "console.log(subsets([1, 2, 3]));\n"
   ]
  },
  {
   "cell_type": "code",
   "execution_count": null,
   "id": "b934b61f",
   "metadata": {},
   "outputs": [
    {
     "name": "stdout",
     "output_type": "stream",
     "text": [
      "[ [ 2, 2, 3 ], [ 7 ] ]\n"
     ]
    }
   ],
   "source": [
    "function combinationSum(candidates: number[], target: number): number[][] {\n",
    "\tconst result: number[][] = [];\n",
    "\tcandidates.sort((a, b) => a - b);\n",
    "\tfunction traverse(i: number, curr: number[], currentSum: number) {\n",
    "\t\tif (currentSum === target) {\n",
    "\t\t\tresult.push(JSON.parse(JSON.stringify(curr)));\n",
    "\t\t\treturn;\n",
    "\t\t}\n",
    "\t\tif (i >= candidates.length || currentSum > target) {\n",
    "\t\t\treturn;\n",
    "\t\t}\n",
    "\t\tcurr.push(candidates[i]);\n",
    "\t\ttraverse(i, curr, currentSum + candidates[i]);\n",
    "\t\tcurr.pop();\n",
    "\t\ttraverse(i + 1, curr, currentSum);\n",
    "\t}\n",
    "\ttraverse(0, [], 0);\n",
    "\treturn result;\n",
    "}\n",
    "\n",
    "console.log(combinationSum([2, 3, 6, 7], 7));\n"
   ]
  }
 ],
 "metadata": {
  "kernelspec": {
   "display_name": "Deno",
   "language": "typescript",
   "name": "deno"
  },
  "language_info": {
   "codemirror_mode": "typescript",
   "file_extension": ".ts",
   "mimetype": "text/x.typescript",
   "name": "typescript",
   "nbconvert_exporter": "script",
   "pygments_lexer": "typescript",
   "version": "5.8.3"
  }
 },
 "nbformat": 4,
 "nbformat_minor": 5
}
