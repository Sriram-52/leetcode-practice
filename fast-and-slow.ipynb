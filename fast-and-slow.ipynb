{
 "cells": [
  {
   "cell_type": "code",
   "execution_count": null,
   "id": "0f96312b",
   "metadata": {},
   "outputs": [],
   "source": [
    "class ListNode {\n",
    "\tval: number;\n",
    "\tnext: ListNode | null;\n",
    "\tconstructor(val?: number, next?: ListNode | null) {\n",
    "\t\tthis.val = val === undefined ? 0 : val;\n",
    "\t\tthis.next = next === undefined ? null : next;\n",
    "\t}\n",
    "}\n"
   ]
  },
  {
   "cell_type": "code",
   "execution_count": null,
   "id": "5179a253",
   "metadata": {},
   "outputs": [],
   "source": [
    "function middleNode(head: ListNode | null): ListNode | null {\n",
    "\tlet slow = head,\n",
    "\t\tfast = head;\n",
    "\n",
    "\twhile (fast && fast.next) {\n",
    "\t\tslow = slow?.next;\n",
    "\t\tfast = fast.next.next;\n",
    "\t}\n",
    "\n",
    "\treturn slow;\n",
    "}\n"
   ]
  },
  {
   "cell_type": "code",
   "execution_count": null,
   "id": "bacd439f",
   "metadata": {},
   "outputs": [],
   "source": [
    "function pairSum(head: ListNode | null): number {\n",
    "\tconst array: number[] = new Array();\n",
    "\tlet curr = head;\n",
    "\n",
    "\twhile (curr !== null) {\n",
    "\t\tarray.push(curr.val);\n",
    "\t\tcurr = curr.next;\n",
    "\t}\n",
    "\n",
    "\tlet l = 0,\n",
    "\t\tr = array.length - 1,\n",
    "\t\tres = -Infinity;\n",
    "\n",
    "\twhile (l < r) {\n",
    "\t\tconst sum = array[l] + array[r];\n",
    "\t\tres = Math.max(res, sum);\n",
    "\t\tl++;\n",
    "\t\tr--;\n",
    "\t}\n",
    "\n",
    "\treturn res;\n",
    "}\n"
   ]
  },
  {
   "cell_type": "code",
   "execution_count": null,
   "id": "d09ca98b",
   "metadata": {},
   "outputs": [],
   "source": [
    "function pairSum(head: ListNode | null): number {\n",
    "\tlet slow = head,\n",
    "\t\tfast = head,\n",
    "\t\tprev: ListNode | null = null;\n",
    "\n",
    "\twhile (fast && fast.next) {\n",
    "\t\tfast = fast.next.next;\n",
    "\t\tconst temp = slow?.next;\n",
    "\t\tslow?.next = prev;\n",
    "\t\tprev = slow;\n",
    "\t\tslow = temp;\n",
    "\t}\n",
    "\n",
    "\tlet res = -Infinity;\n",
    "\twhile (slow) {\n",
    "\t\tres = Math.max(res, prev?.val + slow.val);\n",
    "\t\tprev = prev?.next;\n",
    "\t\tslow = slow.next;\n",
    "\t}\n",
    "\n",
    "\treturn res;\n",
    "}\n"
   ]
  },
  {
   "cell_type": "code",
   "execution_count": null,
   "id": "e901db9a",
   "metadata": {},
   "outputs": [],
   "source": [
    "function hasCycle(head: ListNode | null): boolean {\n",
    "\tlet slow = head,\n",
    "\t\tfast = head;\n",
    "\n",
    "\twhile (fast && fast.next) {\n",
    "\t\tfast = fast.next.next;\n",
    "\t\tslow = slow?.next;\n",
    "\n",
    "\t\tif (slow === fast) {\n",
    "\t\t\treturn true;\n",
    "\t\t}\n",
    "\t}\n",
    "\n",
    "\treturn false;\n",
    "}\n"
   ]
  },
  {
   "cell_type": "code",
   "execution_count": null,
   "id": "5e960455",
   "metadata": {},
   "outputs": [],
   "source": [
    "function detectCycle(head: ListNode | null): ListNode | null {\n",
    "\tlet slow = head,\n",
    "\t\tfast = head;\n",
    "\n",
    "\twhile (fast && fast.next) {\n",
    "\t\tfast = fast.next.next;\n",
    "\t\tslow = slow?.next;\n",
    "\n",
    "\t\tif (slow === fast) {\n",
    "\t\t\tbreak;\n",
    "\t\t}\n",
    "\t}\n",
    "\n",
    "\tif (!fast || !fast.next) {\n",
    "\t\treturn null;\n",
    "\t}\n",
    "\n",
    "\tlet slow2 = head;\n",
    "\twhile (slow2 !== slow) {\n",
    "\t\tslow = slow?.next;\n",
    "\t\tslow2 = slow2?.next;\n",
    "\t}\n",
    "\n",
    "\treturn slow;\n",
    "}\n"
   ]
  },
  {
   "cell_type": "code",
   "execution_count": 5,
   "id": "813e4a80",
   "metadata": {},
   "outputs": [
    {
     "data": {
      "text/plain": [
       "\u001b[33m2\u001b[39m"
      ]
     },
     "execution_count": 5,
     "metadata": {},
     "output_type": "execute_result"
    }
   ],
   "source": [
    "function findDuplicate(nums: number[]): number {\n",
    "\tlet slow = 0,\n",
    "\t\tfast = 0;\n",
    "\n",
    "\tdo {\n",
    "\t\tslow = nums[slow];\n",
    "\t\tfast = nums[nums[fast]];\n",
    "\t} while (slow !== fast);\n",
    "\n",
    "\tlet slow2 = 0;\n",
    "\twhile (slow !== slow2) {\n",
    "\t\tslow = nums[slow];\n",
    "\t\tslow2 = nums[slow2];\n",
    "\t}\n",
    "\n",
    "\treturn slow;\n",
    "}\n",
    "\n",
    "findDuplicate([1, 3, 4, 2, 2]);\n"
   ]
  }
 ],
 "metadata": {
  "kernelspec": {
   "display_name": "Deno",
   "language": "typescript",
   "name": "deno"
  },
  "language_info": {
   "codemirror_mode": "typescript",
   "file_extension": ".ts",
   "mimetype": "text/x.typescript",
   "name": "typescript",
   "nbconvert_exporter": "script",
   "pygments_lexer": "typescript",
   "version": "5.8.3"
  }
 },
 "nbformat": 4,
 "nbformat_minor": 5
}
