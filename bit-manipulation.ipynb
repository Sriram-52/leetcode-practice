{
 "cells": [
  {
   "cell_type": "code",
   "execution_count": null,
   "id": "7ee5a730",
   "metadata": {},
   "outputs": [],
   "source": [
    "function hammingWeight(n: number): number {\n",
    "\tlet count = 0;\n",
    "\twhile (n > 0) {\n",
    "\t\tif ((n & 1) === 1) {\n",
    "\t\t\tcount++;\n",
    "\t\t}\n",
    "\t\tn = n >> 1;\n",
    "\t}\n",
    "\treturn count;\n",
    "}\n"
   ]
  },
  {
   "cell_type": "code",
   "execution_count": null,
   "id": "dfbe586a",
   "metadata": {},
   "outputs": [
    {
     "data": {
      "text/plain": [
       "[ \u001b[33m0\u001b[39m, \u001b[33m1\u001b[39m, \u001b[33m1\u001b[39m, \u001b[33m2\u001b[39m, \u001b[33m1\u001b[39m, \u001b[33m2\u001b[39m ]"
      ]
     },
     "execution_count": 2,
     "metadata": {},
     "output_type": "execute_result"
    }
   ],
   "source": [
    "function hammingWeight(n: number): number {\n",
    "\tlet count = 0;\n",
    "\twhile (n > 0) {\n",
    "\t\tif ((n & 1) === 1) {\n",
    "\t\t\tcount++;\n",
    "\t\t}\n",
    "\t\tn = n >> 1;\n",
    "\t}\n",
    "\treturn count;\n",
    "}\n",
    "\n",
    "function countBits(n: number): number[] {\n",
    "\treturn new Array(n + 1).fill(0).map((_, idx) => hammingWeight(idx));\n",
    "}\n",
    "\n",
    "countBits(5);\n"
   ]
  },
  {
   "cell_type": "code",
   "execution_count": null,
   "id": "fc8b17b6",
   "metadata": {},
   "outputs": [
    {
     "name": "stdout",
     "output_type": "stream",
     "text": [
      "before { i: 1, dp: 0, offset: 1 }\n",
      "after { dp: 1, offset: 1 }\n",
      "before { i: 2, dp: 0, offset: 1 }\n",
      "after { dp: 1, offset: 2 }\n",
      "before { i: 3, dp: 0, offset: 2 }\n",
      "after { dp: 2, offset: 2 }\n",
      "before { i: 4, dp: 0, offset: 2 }\n",
      "after { dp: 1, offset: 4 }\n"
     ]
    },
    {
     "data": {
      "text/plain": [
       "[ \u001b[33m0\u001b[39m, \u001b[33m1\u001b[39m, \u001b[33m1\u001b[39m, \u001b[33m2\u001b[39m, \u001b[33m1\u001b[39m, \u001b[33m0\u001b[39m ]"
      ]
     },
     "execution_count": 9,
     "metadata": {},
     "output_type": "execute_result"
    }
   ],
   "source": [
    "function countBits(n: number): number[] {\n",
    "\tconst dp = new Array(n + 1).fill(0);\n",
    "\tlet offset = 1;\n",
    "\tfor (let i = 1; i < n; i++) {\n",
    "\t\tif (offset * 2 === i) {\n",
    "\t\t\toffset = i;\n",
    "\t\t}\n",
    "\t\tdp[i] = 1 + dp[i - offset];\n",
    "\t}\n",
    "\treturn dp;\n",
    "}\n",
    "\n",
    "countBits(5);\n"
   ]
  },
  {
   "cell_type": "code",
   "execution_count": null,
   "id": "bd3a1a2b",
   "metadata": {},
   "outputs": [
    {
     "data": {
      "text/plain": [
       "\u001b[33m964176192\u001b[39m"
      ]
     },
     "execution_count": 18,
     "metadata": {},
     "output_type": "execute_result"
    }
   ],
   "source": [
    "function reverseBits(n: number): number {\n",
    "  const reversedBin = n.toString(2).padStart(32, 0).split('').reverse().join('')\n",
    "  return parseInt(reversedBin, 2)\n",
    "}\n",
    "reverseBits(43261596);\n"
   ]
  }
 ],
 "metadata": {
  "kernelspec": {
   "display_name": "Deno",
   "language": "typescript",
   "name": "deno"
  },
  "language_info": {
   "codemirror_mode": "typescript",
   "file_extension": ".ts",
   "mimetype": "text/x.typescript",
   "name": "typescript",
   "nbconvert_exporter": "script",
   "pygments_lexer": "typescript",
   "version": "5.8.3"
  }
 },
 "nbformat": 4,
 "nbformat_minor": 5
}
