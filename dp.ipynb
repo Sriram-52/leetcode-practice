{
 "cells": [
  {
   "cell_type": "code",
   "execution_count": null,
   "id": "81a0f945",
   "metadata": {},
   "outputs": [
    {
     "name": "stdout",
     "output_type": "stream",
     "text": [
      "{ i: 0, sum: 0, result: 0 }\n",
      "{ i: 1, sum: 0, result: 0 }\n",
      "{ i: 2, sum: 1, result: 0 }\n",
      "{ i: 3, sum: 3, result: 0 }\n",
      "{ i: 4, sum: 3, result: 1 }\n",
      "{ i: 3, sum: 1, result: 2 }\n",
      "{ i: 4, sum: 4, result: 2 }\n",
      "{ i: 5, sum: 4, result: 2 }\n",
      "{ i: 2, sum: 0, result: 2 }\n",
      "{ i: 3, sum: 2, result: 2 }\n",
      "{ i: 4, sum: 5, result: 2 }\n",
      "{ i: 5, sum: 5, result: 2 }\n",
      "{ i: 4, sum: 2, result: 2 }\n",
      "{ i: 5, sum: 6, result: 2 }\n",
      "{ i: 6, sum: 6, result: 2 }\n"
     ]
    },
    {
     "data": {
      "text/plain": [
       "\u001b[33m2\u001b[39m"
      ]
     },
     "execution_count": 7,
     "metadata": {},
     "output_type": "execute_result"
    }
   ],
   "source": [
    "function rob(nums: number[]): number {\n",
    "\tconst eventIndexSum = nums\n",
    "\t\t.filter((_, idx) => idx % 2 === 0)\n",
    "\t\t.reduce((a, b) => a + b, 0);\n",
    "\tconst oddIndexSum = nums\n",
    "\t\t.filter((_, idx) => idx % 2 === 1)\n",
    "\t\t.reduce((a, b) => a + b, 0);\n",
    "\treturn Math.max(eventIndexSum, oddIndexSum);\n",
    "}\n"
   ]
  }
 ],
 "metadata": {
  "kernelspec": {
   "display_name": "Deno",
   "language": "typescript",
   "name": "deno"
  },
  "language_info": {
   "codemirror_mode": "typescript",
   "file_extension": ".ts",
   "mimetype": "text/x.typescript",
   "name": "typescript",
   "nbconvert_exporter": "script",
   "pygments_lexer": "typescript",
   "version": "5.8.3"
  }
 },
 "nbformat": 4,
 "nbformat_minor": 5
}
